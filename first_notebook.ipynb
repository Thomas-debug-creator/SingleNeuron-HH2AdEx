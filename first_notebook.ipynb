{
 "cells": [
  {
   "cell_type": "code",
   "execution_count": 1,
   "id": "7fad0d6b",
   "metadata": {},
   "outputs": [],
   "source": [
    "%matplotlib inline\n",
    "import brian2 as b2\n",
    "import matplotlib.pyplot as plt\n",
    "import numpy as np\n",
    "from neurodynex3.hodgkin_huxley import HH\n",
    "from neurodynex3.tools import input_factory"
   ]
  },
  {
   "cell_type": "code",
   "execution_count": 70,
   "id": "fbd97807",
   "metadata": {},
   "outputs": [],
   "source": [
    "def plot_data(state_monitor, title=None, model_type = \"regular\"):\n",
    "    \"\"\"Plots the state_monitor variables [\"vm\", \"I_e\", \"m\", \"n\", \"h\"] vs. time.\n",
    "\n",
    "    Args:\n",
    "        state_monitor (StateMonitor): the data to plot\n",
    "        title (string, optional): plot title to display\n",
    "    \"\"\"\n",
    "\n",
    "    plt.subplot(511)\n",
    "    plt.plot(state_monitor.t / b2.ms, state_monitor.vm[0] / b2.mV, lw=2)\n",
    "\n",
    "    plt.xlabel(\"t [ms]\")\n",
    "    plt.ylabel(\"v [mV]\")\n",
    "    plt.grid()\n",
    "\n",
    "    plt.subplot(512)\n",
    "\n",
    "    plt.plot(state_monitor.t / b2.ms, state_monitor.m[0] / b2.volt, \"black\", lw=2)\n",
    "    plt.plot(state_monitor.t / b2.ms, state_monitor.n[0] / b2.volt, \"blue\", lw=2)\n",
    "    plt.plot(state_monitor.t / b2.ms, state_monitor.h[0] / b2.volt, \"red\", lw=2)\n",
    "    plt.xlabel(\"t (ms)\")\n",
    "    plt.ylabel(\"act./inact.\")\n",
    "    plt.legend((\"m\", \"n\", \"h\"))\n",
    "    plt.ylim((0, 1))\n",
    "    plt.grid()\n",
    "\n",
    "    plt.subplot(513)\n",
    "    plt.plot(state_monitor.t / b2.ms, state_monitor.I_e[0] / b2.uamp, lw=2)\n",
    "    plt.axis((\n",
    "        0,\n",
    "        np.max(state_monitor.t / b2.ms),\n",
    "        min(state_monitor.I_e[0] / b2.uamp) * 1.1,\n",
    "        max(state_monitor.I_e[0] / b2.uamp) * 1.1\n",
    "    ))\n",
    "\n",
    "    plt.xlabel(\"t [ms]\")\n",
    "    plt.ylabel(\"I [micro A]\")\n",
    "    plt.grid()\n",
    "\n",
    "    plt.subplot(514)\n",
    "\n",
    "    plt.plot(state_monitor.t / b2.ms, state_monitor.I_Na[0] / b2.amp, \"blue\", lw=2)\n",
    "    plt.plot(state_monitor.t / b2.ms, state_monitor.I_K[0] / b2.amp, \"black\", lw=2)\n",
    "    if model_type == \"adaptive\":\n",
    "        plt.plot(state_monitor.t / b2.ms, state_monitor.I_M[0] / b2.amp, \"red\", lw=2)\n",
    "    plt.xlabel(\"t (ms)\")\n",
    "    plt.ylabel(\"ionic currents\")\n",
    "    plt.legend((\"I_Na\", \"I_K\", \"I_M\"))\n",
    "    # plt.ylim((0, 1))\n",
    "    plt.grid()\n",
    "\n",
    "    if model_type == \"adaptive\":\n",
    "        plt.subplot(515)\n",
    "        plt.plot(state_monitor.t / b2.ms, state_monitor.p[0] / b2.volt, \"black\", lw=2)\n",
    "        plt.xlabel(\"t (ms)\")\n",
    "        plt.ylabel(\"p\")\n",
    "        plt.legend((\"p\"))\n",
    "        plt.ylim((0, 1))\n",
    "        plt.grid()\n",
    "\n",
    "    if title is not None:\n",
    "        plt.suptitle(title)\n",
    "\n",
    "    plt.show()"
   ]
  },
  {
   "cell_type": "code",
   "execution_count": 65,
   "id": "9edb6199",
   "metadata": {},
   "outputs": [],
   "source": [
    "def simulate_HH_neuron_regular(input_current, simulation_time):\n",
    "\n",
    "    \"\"\"A Hodgkin-Huxley neuron implemented in Brian2.\n",
    "\n",
    "    Args:\n",
    "        input_current (TimedArray): Input current injected into the HH neuron\n",
    "        simulation_time (float): Simulation time [seconds]\n",
    "\n",
    "    Returns:\n",
    "        StateMonitor: Brian2 StateMonitor with recorded fields\n",
    "        [\"vm\", \"I_e\", \"m\", \"n\", \"h\"]\n",
    "    \"\"\"\n",
    "\n",
    "    # neuron parameters with their specific values\n",
    "    El = -70 * b2.mV \n",
    "    EK = -90 * b2.mV \n",
    "    ENa = 50 * b2.mV \n",
    "    gl = 0.1 * b2.msiemens \n",
    "    gK = 5 * b2.msiemens \n",
    "    gNa = 50 * b2.msiemens \n",
    "    C = 1 * b2.ufarad \n",
    "\n",
    "    # forming HH model with differential equations\n",
    "    eqs = \"\"\"\n",
    "    I_e = input_current(t,i) : amp\n",
    "    I_Na = gNa*m**3*h*(vm-ENa) : amp\n",
    "    I_K = gK*n**4*(vm-EK) : amp\n",
    "    I_L = gl*(vm-El)  : amp\n",
    "    membrane_Im = I_e - I_Na  - I_L - I_K  : amp\n",
    "    alphah = .128*exp(-(43. + vm/mV)/18.)/ms    : Hz\n",
    "    alpham = -.32*(47. + vm/mV)/(exp(-0.25*(47.+vm/mV))-1)/ms : Hz\n",
    "    alphan = -.032*(45. + vm/mV)/(exp(-0.2*(45.+vm/mV))-1)/ms : Hz\n",
    "    betah = 4./(1+exp(-0.2*(20. + vm/mV)))/ms : Hz\n",
    "    betam = 0.28*(20. + vm/mV)/(-1+exp(0.2*(20. + vm/mV)))/ms : Hz\n",
    "    betan = .5*exp(-(50. + vm/mV)/40.)/ms : Hz\n",
    "    dh/dt = alphah*(1-h)-betah*h : 1\n",
    "    dm/dt = alpham*(1-m)-betam*m : 1\n",
    "    dn/dt = alphan*(1-n)-betan*n : 1\n",
    "    dvm/dt = membrane_Im/C : volt\n",
    "    \"\"\"\n",
    "\n",
    "    neuron = b2.NeuronGroup(1, eqs, method=\"exponential_euler\")\n",
    "\n",
    "    # parameter initialization\n",
    "    neuron.vm = 0\n",
    "    neuron.m = 0.05\n",
    "    neuron.h = 0.60\n",
    "    neuron.n = 0.32\n",
    "\n",
    "    # tracking parameters\n",
    "    st_mon = b2.StateMonitor(neuron, [\"vm\", \"I_e\", \"m\", \"n\", \"h\", \"I_Na\", \"I_K\"], record=True)\n",
    "\n",
    "    # running the simulation\n",
    "    hh_net = b2.Network(neuron)\n",
    "    hh_net.add(st_mon)\n",
    "    hh_net.run(simulation_time)\n",
    "\n",
    "    return st_mon"
   ]
  },
  {
   "cell_type": "code",
   "execution_count": 66,
   "id": "dd2f26a8",
   "metadata": {},
   "outputs": [
    {
     "name": "stderr",
     "output_type": "stream",
     "text": [
      "WARNING    /home/thomas/miniconda3/envs/bmnn/lib/python3.10/site-packages/neurodynex3/hodgkin_huxley/HH.py:61: UserWarning: Attempting to set identical bottom == top == 0.0 results in singular transformations; automatically expanding.\n",
      "  plt.axis((\n",
      " [py.warnings]\n"
     ]
    },
    {
     "data": {
      "image/png": "[encoded data removed]",
      "text/plain": [
       "<Figure size 432x288 with 3 Axes>"
      ]
     },
     "metadata": {
      "needs_background": "light"
     },
     "output_type": "display_data"
    }
   ],
   "source": [
    "I_min = 0\n",
    "current = input_factory.get_step_current(0, 100, b2.ms, I_min *b2.uA)\n",
    "state_monitor = simulate_HH_neuron_regular(current, 20 * b2.ms)\n",
    "HH.plot_data(state_monitor, title=\"HH Neuron, regular spiking\")"
   ]
  },
  {
   "cell_type": "code",
   "execution_count": 68,
   "id": "0993991a",
   "metadata": {},
   "outputs": [],
   "source": [
    "def simulate_HH_neuron_adaptive(input_current, simulation_time):\n",
    "\n",
    "    \"\"\"A Hodgkin-Huxley neuron implemented in Brian2.\n",
    "\n",
    "    Args:\n",
    "        input_current (TimedArray): Input current injected into the HH neuron\n",
    "        simulation_time (float): Simulation time [seconds]\n",
    "\n",
    "    Returns:\n",
    "        StateMonitor: Brian2 StateMonitor with recorded fields\n",
    "        [\"vm\", \"I_e\", \"m\", \"n\", \"h\"]\n",
    "    \"\"\"\n",
    "\n",
    "    # neuron parameters with their specific values\n",
    "    El = -70 * b2.mV \n",
    "    EK = -90 * b2.mV \n",
    "    ENa = 50 * b2.mV \n",
    "    gl = 0.1 * b2.msiemens \n",
    "    gK = 5 * b2.msiemens \n",
    "    gNa = 50 * b2.msiemens \n",
    "    gm = 0.07 * b2.msiemens\n",
    "    C = 1 * b2.ufarad \n",
    "\n",
    "    # forming HH model with differential equations\n",
    "    eqs = \"\"\"\n",
    "    I_e = input_current(t,i) : amp\n",
    "    I_Na = gNa*m**3*h*(vm-ENa) : amp\n",
    "    I_K = gK*n**4*(vm-EK) : amp\n",
    "    I_L = gl*(vm-El)  : amp\n",
    "    I_M = gm*p*(vm-EK): amp\n",
    "    membrane_Im = I_e - I_Na  - I_L - I_K - I_M : amp\n",
    "    alphah = .128*exp(-(43 + vm/mV)/18)/ms    : Hz\n",
    "    alpham = -.32*(47 + vm/mV)/(exp(-0.25*(47+vm/mV))-1)/ms : Hz\n",
    "    alphan = -.032*(45 + vm/mV)/(exp(-0.2*(45+vm/mV))-1)/ms : Hz\n",
    "    betah = 4./(1+exp(-0.2*(20 + vm/mV)))/ms : Hz\n",
    "    betam = 0.28*(20 + vm/mV)/(-1+exp(0.2*(20 + vm/mV)))/ms : Hz\n",
    "    betan = .5*exp(-(50 + vm/mV)/40)/ms : Hz\n",
    "    p_inf = 1/(1 + exp(-.1*(40 + vm/mV))) : 1\n",
    "    t_p = 2000/(3.3*exp((20 + vm/mV)/20) + exp(-(20 + vm/mV)/20))*ms : second\n",
    "    dh/dt = alphah*(1-h)-betah*h : 1\n",
    "    dm/dt = alpham*(1-m)-betam*m : 1\n",
    "    dn/dt = alphan*(1-n)-betan*n : 1\n",
    "    dp/dt = (p_inf - p)/t_p : 1\n",
    "    dvm/dt = membrane_Im/C : volt\n",
    "    \"\"\"\n",
    "\n",
    "    neuron = b2.NeuronGroup(1, eqs, method=\"exponential_euler\")\n",
    "\n",
    "    # parameter initialization\n",
    "    neuron.vm = 0\n",
    "    neuron.m = 0.05\n",
    "    neuron.h = 0.60\n",
    "    neuron.n = 0.32\n",
    "    neuron.p = 0.5 \n",
    "\n",
    "    # tracking parameters\n",
    "    st_mon = b2.StateMonitor(neuron, [\"vm\", \"I_e\", \"m\", \"n\", \"h\", \"I_Na\", \"I_K\", \"I_M\", \"p\"], record=True)\n",
    "\n",
    "    # running the simulation\n",
    "    hh_net = b2.Network(neuron)\n",
    "    hh_net.add(st_mon)\n",
    "    hh_net.run(simulation_time)\n",
    "\n",
    "    return st_mon"
   ]
  },
  {
   "cell_type": "code",
   "execution_count": 72,
   "id": "972c724e",
   "metadata": {},
   "outputs": [
    {
     "name": "stderr",
     "output_type": "stream",
     "text": [
      "WARNING    /home/thomas/miniconda3/envs/bmnn/lib/python3.10/site-packages/neurodynex3/hodgkin_huxley/HH.py:61: UserWarning: Attempting to set identical bottom == top == 0.0 results in singular transformations; automatically expanding.\n",
      "  plt.axis((\n",
      " [py.warnings]\n"
     ]
    },
    {
     "data": {
      "image/png": "[encoded data removed]",
      "text/plain": [
       "<Figure size 432x288 with 3 Axes>"
      ]
     },
     "metadata": {
      "needs_background": "light"
     },
     "output_type": "display_data"
    }
   ],
   "source": [
    "I_min = 0\n",
    "current = input_factory.get_step_current(5, 100, b2.ms, I_min *b2.uA)\n",
    "state_monitor = simulate_HH_neuron_adaptive(current, 60 * b2.ms)\n",
    "HH.plot_data(state_monitor, title=\"HH Neuron, adaptive model\")"
   ]
  },
  {
   "cell_type": "code",
   "execution_count": null,
   "id": "d9c39cd8",
   "metadata": {},
   "outputs": [],
   "source": []
  }
 ],
 "metadata": {
  "kernelspec": {
   "display_name": "Python 3 (ipykernel)",
   "language": "python",
   "name": "python3"
  },
  "language_info": {
   "codemirror_mode": {
    "name": "ipython",
    "version": 3
   },
   "file_extension": ".py",
   "mimetype": "text/x-python",
   "name": "python",
   "nbconvert_exporter": "python",
   "pygments_lexer": "ipython3",
   "version": "3.10.0"
  }
 },
 "nbformat": 4,
 "nbformat_minor": 5
}
